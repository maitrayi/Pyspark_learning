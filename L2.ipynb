{
 "cells": [
  {
   "cell_type": "markdown",
   "metadata": {},
   "source": [
    "# Pyspark Handling Missing Values \n",
    "<ul>\n",
    "<li>Dropping col</li>\n",
    "<li>Dropping rows  </li>\n",
    "<li>Various parameter In dropping functionalities </li>\n",
    "<li>Handling Missing values by mean Median mode </li>\n",
    "</ul>"
   ]
  },
  {
   "cell_type": "code",
   "execution_count": 1,
   "metadata": {},
   "outputs": [],
   "source": [
    "import os"
   ]
  },
  {
   "cell_type": "code",
   "execution_count": 2,
   "metadata": {},
   "outputs": [
    {
     "data": {
      "text/plain": [
       "'c:\\\\Users\\\\Admin\\\\Videos\\\\work\\\\Portfolio\\\\10.pyspark\\\\sample-1.csv'"
      ]
     },
     "execution_count": 2,
     "metadata": {},
     "output_type": "execute_result"
    }
   ],
   "source": [
    "pwd = os.getcwd()\n",
    "file_path= os.path.join(pwd, 'sample-1.csv')\n",
    "file_path"
   ]
  },
  {
   "cell_type": "code",
   "execution_count": 3,
   "metadata": {},
   "outputs": [],
   "source": [
    "from pyspark.sql import SparkSession"
   ]
  },
  {
   "cell_type": "code",
   "execution_count": 4,
   "metadata": {},
   "outputs": [],
   "source": [
    "spark = SparkSession.builder.appName('DataFrame').getOrCreate()"
   ]
  },
  {
   "cell_type": "code",
   "execution_count": 5,
   "metadata": {},
   "outputs": [
    {
     "data": {
      "text/html": [
       "\n",
       "            <div>\n",
       "                <p><b>SparkSession - in-memory</b></p>\n",
       "                \n",
       "        <div>\n",
       "            <p><b>SparkContext</b></p>\n",
       "\n",
       "            <p><a href=\"http://192.168.1.11:4040\">Spark UI</a></p>\n",
       "\n",
       "            <dl>\n",
       "              <dt>Version</dt>\n",
       "                <dd><code>v3.4.1</code></dd>\n",
       "              <dt>Master</dt>\n",
       "                <dd><code>local[*]</code></dd>\n",
       "              <dt>AppName</dt>\n",
       "                <dd><code>DataFrame</code></dd>\n",
       "            </dl>\n",
       "        </div>\n",
       "        \n",
       "            </div>\n",
       "        "
      ],
      "text/plain": [
       "<pyspark.sql.session.SparkSession at 0x253750cfa90>"
      ]
     },
     "execution_count": 5,
     "metadata": {},
     "output_type": "execute_result"
    }
   ],
   "source": [
    "spark"
   ]
  },
  {
   "cell_type": "code",
   "execution_count": 6,
   "metadata": {},
   "outputs": [],
   "source": [
    "df_spark = spark.read.csv(file_path, header=True, inferSchema=True)"
   ]
  },
  {
   "cell_type": "code",
   "execution_count": 7,
   "metadata": {},
   "outputs": [
    {
     "name": "stdout",
     "output_type": "stream",
     "text": [
      "root\n",
      " |-- Name: string (nullable = true)\n",
      " |-- Age: integer (nullable = true)\n",
      " |-- experience: integer (nullable = true)\n",
      " |-- salary: integer (nullable = true)\n",
      "\n"
     ]
    }
   ],
   "source": [
    "df_spark.printSchema()"
   ]
  },
  {
   "cell_type": "code",
   "execution_count": 8,
   "metadata": {},
   "outputs": [
    {
     "name": "stdout",
     "output_type": "stream",
     "text": [
      "+------+----+----------+------+\n",
      "|  Name| Age|experience|salary|\n",
      "+------+----+----------+------+\n",
      "|   ram|  10|         2|   100|\n",
      "| shyam|  12|         1|   150|\n",
      "|sunita|  16|         1|   120|\n",
      "| krish|  11|         1|   100|\n",
      "| radha|  15|         2|   180|\n",
      "| sudha|  13|         3|   160|\n",
      "|  bala|null|         1|    80|\n",
      "|  null|  14|      null|   100|\n",
      "|  null|  16|      null|  null|\n",
      "+------+----+----------+------+\n",
      "\n"
     ]
    }
   ],
   "source": [
    "df_spark.show()"
   ]
  },
  {
   "cell_type": "code",
   "execution_count": 9,
   "metadata": {},
   "outputs": [
    {
     "name": "stdout",
     "output_type": "stream",
     "text": [
      "+------+---+----------+------+\n",
      "|  Name|Age|experience|salary|\n",
      "+------+---+----------+------+\n",
      "|   ram| 10|         2|   100|\n",
      "| shyam| 12|         1|   150|\n",
      "|sunita| 16|         1|   120|\n",
      "| krish| 11|         1|   100|\n",
      "| radha| 15|         2|   180|\n",
      "| sudha| 13|         3|   160|\n",
      "+------+---+----------+------+\n",
      "\n"
     ]
    }
   ],
   "source": [
    "df_spark.na.drop().show()"
   ]
  },
  {
   "cell_type": "code",
   "execution_count": 10,
   "metadata": {},
   "outputs": [
    {
     "name": "stdout",
     "output_type": "stream",
     "text": [
      "+------+---+----------+------+\n",
      "|  Name|Age|experience|salary|\n",
      "+------+---+----------+------+\n",
      "|   ram| 10|         2|   100|\n",
      "| shyam| 12|         1|   150|\n",
      "|sunita| 16|         1|   120|\n",
      "| krish| 11|         1|   100|\n",
      "| radha| 15|         2|   180|\n",
      "| sudha| 13|         3|   160|\n",
      "+------+---+----------+------+\n",
      "\n"
     ]
    }
   ],
   "source": [
    "#any = = how---any,  all \n",
    "df_spark.na.drop(how = 'any').show()"
   ]
  },
  {
   "cell_type": "code",
   "execution_count": 11,
   "metadata": {},
   "outputs": [
    {
     "name": "stdout",
     "output_type": "stream",
     "text": [
      "+------+----+----------+------+\n",
      "|  Name| Age|experience|salary|\n",
      "+------+----+----------+------+\n",
      "|   ram|  10|         2|   100|\n",
      "| shyam|  12|         1|   150|\n",
      "|sunita|  16|         1|   120|\n",
      "| krish|  11|         1|   100|\n",
      "| radha|  15|         2|   180|\n",
      "| sudha|  13|         3|   160|\n",
      "|  bala|null|         1|    80|\n",
      "|  null|  14|      null|   100|\n",
      "|  null|  16|      null|  null|\n",
      "+------+----+----------+------+\n",
      "\n"
     ]
    }
   ],
   "source": [
    "df_spark.na.drop(how = 'all').show()"
   ]
  },
  {
   "cell_type": "code",
   "execution_count": 12,
   "metadata": {},
   "outputs": [
    {
     "name": "stdout",
     "output_type": "stream",
     "text": [
      "+------+----+----------+------+\n",
      "|  Name| Age|experience|salary|\n",
      "+------+----+----------+------+\n",
      "|   ram|  10|         2|   100|\n",
      "| shyam|  12|         1|   150|\n",
      "|sunita|  16|         1|   120|\n",
      "| krish|  11|         1|   100|\n",
      "| radha|  15|         2|   180|\n",
      "| sudha|  13|         3|   160|\n",
      "|  bala|null|         1|    80|\n",
      "|  null|  14|      null|   100|\n",
      "+------+----+----------+------+\n",
      "\n"
     ]
    }
   ],
   "source": [
    "df_spark.na.drop(how = 'any', thresh=2).show()\n",
    "#2 non null va;ue "
   ]
  },
  {
   "cell_type": "code",
   "execution_count": 14,
   "metadata": {},
   "outputs": [
    {
     "name": "stdout",
     "output_type": "stream",
     "text": [
      "+------+----+----------+------+\n",
      "|  Name| Age|experience|salary|\n",
      "+------+----+----------+------+\n",
      "|   ram|  10|         2|   100|\n",
      "| shyam|  12|         1|   150|\n",
      "|sunita|  16|         1|   120|\n",
      "| krish|  11|         1|   100|\n",
      "| radha|  15|         2|   180|\n",
      "| sudha|  13|         3|   160|\n",
      "|  bala|null|         1|    80|\n",
      "+------+----+----------+------+\n",
      "\n"
     ]
    }
   ],
   "source": [
    "#subset \n",
    "df_spark.na.drop(how= 'any', subset = ['experience']).show()"
   ]
  },
  {
   "cell_type": "code",
   "execution_count": null,
   "metadata": {},
   "outputs": [],
   "source": [
    "# fill te missing values "
   ]
  },
  {
   "cell_type": "code",
   "execution_count": 18,
   "metadata": {},
   "outputs": [
    {
     "name": "stdout",
     "output_type": "stream",
     "text": [
      "+--------------+----+----------+------+\n",
      "|          Name| Age|experience|salary|\n",
      "+--------------+----+----------+------+\n",
      "|           ram|  10|         2|   100|\n",
      "|         shyam|  12|         1|   150|\n",
      "|        sunita|  16|         1|   120|\n",
      "|         krish|  11|         1|   100|\n",
      "|         radha|  15|         2|   180|\n",
      "|         sudha|  13|         3|   160|\n",
      "|          bala|null|         1|    80|\n",
      "|Missing Values|  14|      null|   100|\n",
      "|Missing Values|  16|      null|  null|\n",
      "+--------------+----+----------+------+\n",
      "\n"
     ]
    }
   ],
   "source": [
    "df_spark.na.fill(\"Missing Values\").show()"
   ]
  },
  {
   "cell_type": "code",
   "execution_count": 15,
   "metadata": {},
   "outputs": [
    {
     "name": "stdout",
     "output_type": "stream",
     "text": [
      "+------+----+----------+------+\n",
      "|  Name| Age|experience|salary|\n",
      "+------+----+----------+------+\n",
      "|   ram|  10|         2|   100|\n",
      "| shyam|  12|         1|   150|\n",
      "|sunita|  16|         1|   120|\n",
      "| krish|  11|         1|   100|\n",
      "| radha|  15|         2|   180|\n",
      "| sudha|  13|         3|   160|\n",
      "|  bala|null|         1|    80|\n",
      "|  null|  14|      null|   100|\n",
      "|  null|  16|      null|  null|\n",
      "+------+----+----------+------+\n",
      "\n"
     ]
    }
   ],
   "source": [
    "df_spark.na.fill(\"Missing Values\", 'Age').show()"
   ]
  },
  {
   "cell_type": "markdown",
   "metadata": {},
   "source": [
    "#imputer function"
   ]
  },
  {
   "cell_type": "code",
   "execution_count": 20,
   "metadata": {},
   "outputs": [],
   "source": [
    "from pyspark.ml.feature import Imputer\n",
    "from pyspark.ml import Pipeline"
   ]
  },
  {
   "cell_type": "code",
   "execution_count": 21,
   "metadata": {},
   "outputs": [],
   "source": [
    "# Create an Imputer for each column\n",
    "imputers = [\n",
    "    Imputer(inputCol=col, outputCol=col + \"_imputed\").setStrategy(\"mean\")\n",
    "    for col in ['Age', 'experience', 'salary']\n",
    "]\n",
    "\n",
    "# Create a pipeline with the imputers\n",
    "pipeline = Pipeline(stages=imputers)\n",
    "\n",
    "# Fit the pipeline to the data and transform it\n",
    "df_imputed = pipeline.fit(df_spark).transform(df_spark)"
   ]
  },
  {
   "cell_type": "code",
   "execution_count": 23,
   "metadata": {},
   "outputs": [
    {
     "name": "stdout",
     "output_type": "stream",
     "text": [
      "+------+----+----------+------+-----------+------------------+--------------+\n",
      "|  Name| Age|experience|salary|Age_imputed|experience_imputed|salary_imputed|\n",
      "+------+----+----------+------+-----------+------------------+--------------+\n",
      "|   ram|  10|         2|   100|         10|                 2|           100|\n",
      "| shyam|  12|         1|   150|         12|                 1|           150|\n",
      "|sunita|  16|         1|   120|         16|                 1|           120|\n",
      "| krish|  11|         1|   100|         11|                 1|           100|\n",
      "| radha|  15|         2|   180|         15|                 2|           180|\n",
      "| sudha|  13|         3|   160|         13|                 3|           160|\n",
      "|  bala|null|         1|    80|         13|                 1|            80|\n",
      "|  null|  14|      null|   100|         14|                 1|           100|\n",
      "|  null|  16|      null|  null|         16|                 1|           123|\n",
      "+------+----+----------+------+-----------+------------------+--------------+\n",
      "\n"
     ]
    }
   ],
   "source": [
    "df_imputed.show()"
   ]
  },
  {
   "cell_type": "code",
   "execution_count": 24,
   "metadata": {},
   "outputs": [],
   "source": [
    "# Create an Imputer for each column\n",
    "imputers = [\n",
    "    Imputer(inputCol=col, outputCol=col + \"_imputed\").setStrategy(\"median\")\n",
    "    for col in ['Age', 'experience', 'salary']\n",
    "]\n",
    "\n",
    "# Create a pipeline with the imputers\n",
    "pipeline = Pipeline(stages=imputers)\n",
    "\n",
    "# Fit the pipeline to the data and transform it\n",
    "df_imputed = pipeline.fit(df_spark).transform(df_spark)"
   ]
  },
  {
   "cell_type": "code",
   "execution_count": 25,
   "metadata": {},
   "outputs": [
    {
     "name": "stdout",
     "output_type": "stream",
     "text": [
      "+------+----+----------+------+-----------+------------------+--------------+\n",
      "|  Name| Age|experience|salary|Age_imputed|experience_imputed|salary_imputed|\n",
      "+------+----+----------+------+-----------+------------------+--------------+\n",
      "|   ram|  10|         2|   100|         10|                 2|           100|\n",
      "| shyam|  12|         1|   150|         12|                 1|           150|\n",
      "|sunita|  16|         1|   120|         16|                 1|           120|\n",
      "| krish|  11|         1|   100|         11|                 1|           100|\n",
      "| radha|  15|         2|   180|         15|                 2|           180|\n",
      "| sudha|  13|         3|   160|         13|                 3|           160|\n",
      "|  bala|null|         1|    80|         13|                 1|            80|\n",
      "|  null|  14|      null|   100|         14|                 1|           100|\n",
      "|  null|  16|      null|  null|         16|                 1|           100|\n",
      "+------+----+----------+------+-----------+------------------+--------------+\n",
      "\n"
     ]
    }
   ],
   "source": [
    "df_imputed.show()"
   ]
  },
  {
   "cell_type": "code",
   "execution_count": null,
   "metadata": {},
   "outputs": [],
   "source": []
  }
 ],
 "metadata": {
  "kernelspec": {
   "display_name": "pyspark",
   "language": "python",
   "name": "python3"
  },
  "language_info": {
   "codemirror_mode": {
    "name": "ipython",
    "version": 3
   },
   "file_extension": ".py",
   "mimetype": "text/x-python",
   "name": "python",
   "nbconvert_exporter": "python",
   "pygments_lexer": "ipython3",
   "version": "3.11.4"
  },
  "orig_nbformat": 4
 },
 "nbformat": 4,
 "nbformat_minor": 2
}
